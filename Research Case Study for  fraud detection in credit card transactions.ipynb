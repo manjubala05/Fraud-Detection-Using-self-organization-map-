{
 "cells": [
  {
   "cell_type": "markdown",
   "id": "49787949",
   "metadata": {},
   "source": [
    " Importing necessary libraries"
   ]
  },
  {
   "cell_type": "code",
   "execution_count": 17,
   "id": "3f80e2f4",
   "metadata": {},
   "outputs": [
    {
     "name": "stdout",
     "output_type": "stream",
     "text": [
      "Requirement already satisfied: minisom in c:\\users\\manju\\anaconda3\\lib\\site-packages (2.3.2)\n",
      "Note: you may need to restart the kernel to use updated packages.\n"
     ]
    }
   ],
   "source": [
    "pip install minisom"
   ]
  },
  {
   "cell_type": "code",
   "execution_count": 4,
   "id": "4c645b1e",
   "metadata": {},
   "outputs": [],
   "source": [
    "import numpy as np\n",
    "import matplotlib.pyplot as plt\n",
    "import pandas as pd\n",
    "from numpy import *\n",
    "from sklearn.preprocessing import MinMaxScaler\n",
    "from minisom import MiniSom\n",
    "from pylab import bone, pcolor, colorbar"
   ]
  },
  {
   "cell_type": "markdown",
   "id": "05af13bc",
   "metadata": {},
   "source": [
    "Reading and extracting features (X) and labels (y) from the dataset "
   ]
  },
  {
   "cell_type": "code",
   "execution_count": 6,
   "id": "318c79db",
   "metadata": {},
   "outputs": [],
   "source": [
    "\n",
    "dataset = pd.read_csv(r'C:\\Users\\manju\\Downloads\\CrediCardFraudDetectionApplicationNEW.csv')\n",
    "X = dataset.iloc[:, :-1].values\n",
    "y = dataset.iloc[:, -1].values"
   ]
  },
  {
   "cell_type": "markdown",
   "id": "25c87e3a",
   "metadata": {},
   "source": [
    "Feature scaling using MinMaxScaler"
   ]
  },
  {
   "cell_type": "code",
   "execution_count": 7,
   "id": "6e8846d1",
   "metadata": {},
   "outputs": [],
   "source": [
    "\n",
    "sc = MinMaxScaler(feature_range = (0, 1))\n",
    "X = sc.fit_transform(X)\n"
   ]
  },
  {
   "cell_type": "markdown",
   "id": "7fe89c2e",
   "metadata": {},
   "source": [
    "Training the Self-Organizing Map (SOM)"
   ]
  },
  {
   "cell_type": "code",
   "execution_count": 8,
   "id": "62838748",
   "metadata": {},
   "outputs": [],
   "source": [
    "\n",
    "som = MiniSom(x = 10, y = 10, input_len = 16, sigma = 1.0, learning_rate = 0.1, neighborhood_function = 'bubble')\n",
    "som.random_weights_init(X)\n",
    "som.train_random(data = X, num_iteration = 100)\n"
   ]
  },
  {
   "cell_type": "markdown",
   "id": "5955a99c",
   "metadata": {},
   "source": [
    "Visualizing the distance map of the SOM"
   ]
  },
  {
   "cell_type": "code",
   "execution_count": 9,
   "id": "62c93ebf",
   "metadata": {},
   "outputs": [
    {
     "data": {
      "text/plain": [
       "array([[0.3, 0.5, 0.5, 0.5, 0.5, 0.6, 0.5, 0.4, 0.4, 0.2],\n",
       "       [0.5, 0.8, 0.7, 0.7, 1. , 0.7, 0.8, 0.7, 0.7, 0.4],\n",
       "       [0.5, 0.8, 0.8, 0.7, 0.6, 0.7, 0.6, 0.7, 0.8, 0.4],\n",
       "       [0.5, 0.9, 1. , 0.8, 0.7, 0.7, 0.6, 0.8, 0.8, 0.5],\n",
       "       [0.5, 0.8, 0.8, 0.8, 0.7, 0.8, 0.9, 0.8, 0.8, 0.5],\n",
       "       [0.6, 0.9, 0.7, 0.8, 0.9, 0.8, 0.8, 0.8, 0.8, 0.6],\n",
       "       [0.5, 0.8, 0.8, 0.9, 0.7, 0.8, 0.8, 0.7, 0.7, 0.5],\n",
       "       [0.5, 0.8, 0.9, 0.8, 0.8, 0.9, 0.8, 0.7, 0.8, 0.5],\n",
       "       [0.5, 0.9, 0.8, 0.7, 0.7, 0.8, 0.7, 0.7, 0.8, 0.5],\n",
       "       [0.3, 0.5, 0.5, 0.4, 0.5, 0.6, 0.4, 0.4, 0.4, 0.2]])"
      ]
     },
     "execution_count": 9,
     "metadata": {},
     "output_type": "execute_result"
    }
   ],
   "source": [
    "distance_map = som.distance_map().round(1)\n",
    "distance_map"
   ]
  },
  {
   "cell_type": "markdown",
   "id": "8ae6acdf",
   "metadata": {},
   "source": [
    "Calculating the number of grid cells with distance >= 0.5"
   ]
  },
  {
   "cell_type": "code",
   "execution_count": 10,
   "id": "638e2e7b",
   "metadata": {},
   "outputs": [
    {
     "data": {
      "text/plain": [
       "dict_keys([(1, 2), (4, 7), (1, 8), (9, 5), (4, 5), (7, 3), (3, 0), (4, 9), (9, 6), (0, 1), (0, 6), (9, 1), (4, 1), (6, 9), (0, 7), (7, 1), (9, 8), (5, 6), (5, 4), (1, 1), (6, 2), (5, 9), (2, 2), (1, 3), (7, 0), (3, 3), (8, 1), (1, 6), (4, 6), (6, 0), (0, 8), (5, 7), (9, 3), (3, 4), (8, 2), (8, 6), (6, 3), (5, 8), (6, 7), (7, 4), (8, 3), (4, 4), (7, 9), (3, 6), (4, 0), (2, 0), (8, 7), (4, 2), (8, 4), (0, 5), (7, 6), (9, 2), (1, 5), (9, 9), (5, 2), (3, 9), (2, 9), (7, 8), (2, 4), (2, 5), (1, 4), (0, 9), (1, 7), (2, 1), (6, 8), (0, 0), (8, 0), (3, 7), (0, 3), (5, 3), (6, 6), (2, 8), (4, 3), (6, 4), (7, 2), (5, 1), (0, 4), (2, 3), (7, 7), (3, 5), (3, 2), (9, 0), (8, 8), (3, 8), (1, 0), (3, 1), (5, 5), (8, 5), (5, 0), (9, 7), (4, 8), (7, 5), (6, 5), (0, 2), (2, 6), (2, 7)])"
      ]
     },
     "execution_count": 10,
     "metadata": {},
     "output_type": "execute_result"
    },
    {
     "data": {
      "image/png": "[encoded data removed]",
      "text/plain": [
       "<Figure size 640x480 with 2 Axes>"
      ]
     },
     "metadata": {},
     "output_type": "display_data"
    }
   ],
   "source": [
    "\n",
    "index = []\n",
    "for i in range(10):\n",
    "    for j in range(10):\n",
    "        if(distance_map[i,j]>=0.5):\n",
    "            index.append([i,j])\n",
    "len(index)\n",
    "\n",
    "pcolor(som.distance_map().T)\n",
    "colorbar() #gives legend\n",
    "\n",
    "mappings = som.win_map(X)\n",
    "mappings.keys()\n"
   ]
  },
  {
   "cell_type": "markdown",
   "id": "8cf33047",
   "metadata": {},
   "source": [
    "Calculating the total number of fraudulent transactions"
   ]
  },
  {
   "cell_type": "code",
   "execution_count": 11,
   "id": "53677723",
   "metadata": {},
   "outputs": [
    {
     "data": {
      "text/plain": [
       "599"
      ]
     },
     "execution_count": 11,
     "metadata": {},
     "output_type": "execute_result"
    }
   ],
   "source": [
    "\n",
    "fraud_list = []\n",
    "sum = 0\n",
    "for x in index:\n",
    "    fraud_list.append(mappings[(x[0],x[1])])\n",
    "    sum = sum + len(mappings[(x[0],x[1])])\n",
    "sum"
   ]
  },
  {
   "cell_type": "markdown",
   "id": "dcec2bf0",
   "metadata": {},
   "source": [
    "Converting list of fraudulent transactions to array and then inverse transforming to get original values"
   ]
  },
  {
   "cell_type": "code",
   "execution_count": 12,
   "id": "163bfce8",
   "metadata": {},
   "outputs": [],
   "source": [
    "\n",
    "frauds = []\n",
    "for x in fraud_list:\n",
    "    for y in x:\n",
    "        frauds.append(y)\n",
    "\n",
    "        \n",
    "fraud_array = np.asarray(frauds)\n",
    "fraud_inverse_transformed = sc.inverse_transform(frauds)\n"
   ]
  },
  {
   "cell_type": "markdown",
   "id": "6aece315",
   "metadata": {},
   "source": [
    "Counting the number of correctly predicted frauds and wrongly predicted frauds"
   ]
  },
  {
   "cell_type": "code",
   "execution_count": 13,
   "id": "7693230c",
   "metadata": {},
   "outputs": [
    {
     "name": "stdout",
     "output_type": "stream",
     "text": [
      "Total frauds :599\n"
     ]
    }
   ],
   "source": [
    "count = 0\n",
    "fraud_id_list = []\n",
    "for x in fraud_inverse_transformed:\n",
    "    fraud_id_list.append(x[0])\n",
    "print('Total frauds :{}'.format(len(fraud_id_list)))\n",
    "\n",
    "count = 0\n",
    "right_prediction_index =[]\n",
    "wrong_prediction_index =[]\n",
    "for x in fraud_id_list:\n",
    "    for i,y in enumerate(dataset['CustomerID']):\n",
    "        if(x == y):\n",
    "            if(dataset['Class'][i] == 0):\n",
    "                count = count+1\n",
    "                right_prediction_index.append(i)\n",
    "            else:\n",
    "                wrong_prediction_index.append(i)\n"
   ]
  },
  {
   "cell_type": "markdown",
   "id": "68acf9db",
   "metadata": {},
   "source": [
    "Calculating the percentages of correct predictions"
   ]
  },
  {
   "cell_type": "code",
   "execution_count": 14,
   "id": "ff857dca",
   "metadata": {},
   "outputs": [
    {
     "name": "stdout",
     "output_type": "stream",
     "text": [
      "Right Prediction:59.432387312186975\n"
     ]
    }
   ],
   "source": [
    "a = len(right_prediction_index)\n",
    "b=len(wrong_prediction_index)\n",
    "l = len(fraud_id_list)\n",
    "print('Right Prediction:{}'.format((a/l)*100))\n"
   ]
  },
  {
   "cell_type": "code",
   "execution_count": 15,
   "id": "2a36444e",
   "metadata": {},
   "outputs": [],
   "source": [
    "\n",
    "total_population = dataset.shape[0]\n",
    "total_actual_frauds  = dataset[dataset['Class'] == 0].shape[0]"
   ]
  },
  {
   "cell_type": "markdown",
   "id": "bca50012",
   "metadata": {},
   "source": [
    "Print percentages of predictions"
   ]
  },
  {
   "cell_type": "code",
   "execution_count": 16,
   "id": "69f03f02",
   "metadata": {},
   "outputs": [
    {
     "name": "stdout",
     "output_type": "stream",
     "text": [
      "Percentage of frauds detected out of total actual frauds:92.95039164490862\n",
      "Percentage of fraud customers in population as claimed by prediction model:51.59420289855072\n",
      "Actual precentage of frauds out of total population:55.507246376811594\n",
      "Affected population(percentage of custormers who were not fraud but were predicted as fraud)):35.21739130434783\n"
     ]
    }
   ],
   "source": [
    "print('Percentage of frauds detected out of total actual frauds:{}'.format((a/total_actual_frauds)*100))\n",
    "print('Percentage of fraud customers in population as claimed by prediction model:{}'.format((a/total_population)*100))\n",
    "print('Actual precentage of frauds out of total population:{}'.format((total_actual_frauds/total_population)*100))\n",
    "print('Affected population(percentage of custormers who were not fraud but were predicted as fraud)):{}'.format((b/690)*100))"
   ]
  },
  {
   "cell_type": "code",
   "execution_count": null,
   "id": "672420bf",
   "metadata": {},
   "outputs": [],
   "source": []
  }
 ],
 "metadata": {
  "kernelspec": {
   "display_name": "Python 3 (ipykernel)",
   "language": "python",
   "name": "python3"
  },
  "language_info": {
   "codemirror_mode": {
    "name": "ipython",
    "version": 3
   },
   "file_extension": ".py",
   "mimetype": "text/x-python",
   "name": "python",
   "nbconvert_exporter": "python",
   "pygments_lexer": "ipython3",
   "version": "3.10.9"
  }
 },
 "nbformat": 4,
 "nbformat_minor": 5
}
